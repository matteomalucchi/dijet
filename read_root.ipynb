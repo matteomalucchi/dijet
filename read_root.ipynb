{
 "cells": [
  {
   "cell_type": "code",
   "execution_count": null,
   "metadata": {},
   "outputs": [],
   "source": [
    "import ROOT\n",
    "from matplotlib import pyplot as plt\n",
    "import numpy as np"
   ]
  },
  {
   "cell_type": "code",
   "execution_count": null,
   "metadata": {},
   "outputs": [],
   "source": [
    "root_name=\"rootfiles/test/jmenano_mc_out_Summer22MG_1_test.root\"\n",
    "file=ROOT.TFile.Open(root_name)"
   ]
  },
  {
   "cell_type": "code",
   "execution_count": null,
   "metadata": {},
   "outputs": [],
   "source": [
    "h3=file.Get(\"HLT_MC/Dijet2/h3m0tc\")\n",
    "# p2jes=file.Get(\"mc/l2res/p2jes\")\n",
    "#draw\n",
    "c=ROOT.TCanvas(\"c\",\"c\",1000,800)\n",
    "h3.Draw()\n",
    "c.Draw()\n"
   ]
  },
  {
   "cell_type": "code",
   "execution_count": null,
   "metadata": {},
   "outputs": [],
   "source": [
    "# for i in range(0,80):\n",
    "#     for j in range(0,40):\n",
    "#         for k in range(0,103):\n",
    "#             if h3.GetBinContent(i,j,k) !=0:\n",
    "#                 print(i,j,k,h3.GetBinContent(i,j,k))\n"
   ]
  },
  {
   "cell_type": "code",
   "execution_count": null,
   "metadata": {},
   "outputs": [],
   "source": [
    "#plot the z distribution for a givenx, y bin\n",
    "def plot_z_distribution(h3,x,y):\n",
    "    counts=[]\n",
    "    bins=[]\n",
    "    for k in range(0,100):\n",
    "        counts.append(h3.GetBinContent(x,y,k))\n",
    "        bins.append(h3.GetZaxis().GetBinCenter(k))\n",
    "    plt.plot(bins,counts)\n",
    "    plt.show()\n"
   ]
  },
  {
   "cell_type": "code",
   "execution_count": null,
   "metadata": {},
   "outputs": [],
   "source": [
    "plot_z_distribution(h3,18,17)"
   ]
  },
  {
   "cell_type": "code",
   "execution_count": null,
   "metadata": {},
   "outputs": [],
   "source": [
    "root_name=\"/work/mmalucch/L2L3Res_inputs/mc_truth_below15_2022_pnetreg/dijet/jmenano_mc_out_QCD-EE_mc_truth_below15_2022_pnetreg.root\"\n",
    "root_name=\"/work/mmalucch/L2L3Res_inputs/mc_truth_below15_2022_pnetreg/dijet/jmenano_mc_out_Summer22EEMG_1_mc_truth_below15_2022_pnetreg.root\"\n",
    "root_name=\"/work/mmalucch/L2L3Res_inputs/mc_truth_below15_2022_pnetreg/dijet/jmenano_mc_out_2022EEQCD_mc_truth_below15_2022_pnetreg.root\"\n",
    "# root_name=\"/work/mmalucch/L2L3Res_inputs/mc_truth_below15_2022_pnetreg/dijet/jmenano_mc_cmb_2022EEQCD_mc_truth_below15_2022_pnetreg.root\"\n",
    "file=ROOT.TFile.Open(root_name)"
   ]
  },
  {
   "cell_type": "code",
   "execution_count": null,
   "metadata": {},
   "outputs": [],
   "source": [
    "p2m0=file.Get(\"HLT_MC/Dijet2/p2m0\")\n",
    "p1m0=p2m0.ProfileY(\"p1m0\", 1,2)\n",
    "h = p1m0.ProjectionX()\n",
    "c=ROOT.TCanvas(\"c\",\"c\",1000,800)\n",
    "p1m0.Draw()\n",
    "c.Draw()\n",
    "c.Delete()\n",
    "#print the content of the histogram\n",
    "for i in range(0,30):\n",
    "    # if h.GetBinContent(i) !=0:\n",
    "    print(i,p1m0.GetBinContent(i))"
   ]
  },
  {
   "cell_type": "code",
   "execution_count": 37,
   "metadata": {},
   "outputs": [
    {
     "name": "stderr",
     "output_type": "stream",
     "text": [
      "Warning in <TCanvas::Constructor>: Deleting canvas with same name: c\n",
      "Warning in <TCanvas::Delete()>: may not use this method\n"
     ]
    },
    {
     "data": {
      "image/png": "[encoded data removed]",
      "text/plain": [
       "<IPython.core.display.Image object>"
      ]
     },
     "metadata": {},
     "output_type": "display_data"
    }
   ],
   "source": [
    "root_name=\"/work/mmalucch/L2L3Res_inputs/mc_truth_below15_2022_pnetreg/dijet/jmenano_mc_out_QCD-EE_mc_truth_below15_2022_pnetreg.root\"\n",
    "root_name=\"/work/mmalucch/L2L3Res_inputs/mc_truth_below15_2022_pnetreg/dijet/jmenano_mc_out_2022EEQCD_mc_truth_below15_2022_pnetreg.root\"\n",
    "root_name=\"/work/mmalucch/L2L3Res_inputs/mc_truth_below15_2022_pnetreg/dijet/jmenano_mc_out_Summer22EEMG_8_mc_truth_below15_2022_pnetreg.root\"\n",
    "# root_name=\"/work/mmalucch/L2L3Res_inputs/mc_truth_below15_2022_pnetreg/dijet/jmenano_mc_cmb_2022EEQCD_mc_truth_below15_2022_pnetreg.root\"\n",
    "# root_name=\"rootfiles/QCD_full_22EEMG8/jmenano_mc_out_Summer22EEMG_8_QCD_full_22EEMG8.root\"\n",
    "root_name=\"rootfiles/QCD_test_22EEMG8_debug/jmenano_mc_out_Summer22EEMG_8_QCD_test_22EEMG8_debug.root\"\n",
    "file=ROOT.TFile.Open(root_name)\n",
    "p2m0=file.Get(\"HLT_MC/Dijet2/p2m0\")\n",
    "# p2m0=file.Get(\"HLT_MC/Multijet/pmum\")\n",
    "\n",
    "\n",
    "c=ROOT.TCanvas(\"c\",\"c\",1000,800)\n",
    "p2m0.Draw(\"colz\")\n",
    "ROOT.gStyle.SetOptStat(0000)\n",
    "c.Draw()\n",
    "c.Delete()\n",
    "\n",
    "for i in range(0,40):\n",
    "    sum=0\n",
    "    for j in range(0,40):\n",
    "        sum+=p2m0.GetBinContent(i,j)\n",
    "        if p2m0.GetBinContent(i,j) !=0 and abs(p2m0.GetBinContent(i,j))>1000:\n",
    "            print(\"\\n\",i,j,p2m0.GetBinContent(i,j))\n",
    "            print(p2m0.GetXaxis().GetBinLowEdge(i),p2m0.GetYaxis().GetBinLowEdge(j))\n",
    "        if np.isnan(p2m0.GetBinContent(i,j)):\n",
    "            print(\"\\n\",i,j,p2m0.GetBinContent(i,j))\n",
    "            print(p2m0.GetXaxis().GetBinLowEdge(i),p2m0.GetYaxis().GetBinLowEdge(j))\n",
    "    # print(i,sum)\n",
    "\n",
    "\n",
    "# p1m0=p2m0.ProfileY(\"p1m0\", 8,8)\n",
    "# for i in range(0,30):\n",
    "#     # if p1m0.GetBinContent(i) !=0:\n",
    "#     print(i,p1m0.GetBinContent(i))\n",
    "\n",
    "#draw the profile\n",
    "# c=ROOT.TCanvas(\"c\",\"c\",1000,800)\n",
    "# # set range of plot\n",
    "# p1m0.Draw()\n",
    "# #log scale\n",
    "# c.SetLogy()\n",
    "# c.SetLogx()\n",
    "# c.Draw()\n",
    "# c.Delete()\n"
   ]
  },
  {
   "cell_type": "code",
   "execution_count": null,
   "metadata": {},
   "outputs": [],
   "source": [
    "root_name=\"/work/mmalucch/L2L3Res_inputs/mc_truth_below15_2022_pnetreg/dijet/jmenano_mc_out_2022EEQCD_mc_truth_below15_2022_pnetreg.root\"\n",
    "# root_name=\"/work/mmalucch/L2L3Res_inputs/mc_truth_below15_2022_pnetreg/dijet/jmenano_mc_cmb_2022EEQCD_mc_truth_below15_2022_pnetreg.root\"\n",
    "root_name=\"rootfiles/QCD_full_22EEMG8/jmenano_mc_out_Summer22EEMG_8_QCD_full_22EEMG8.root\"\n",
    "\n",
    "file=ROOT.TFile.Open(root_name)\n",
    "p2m0=file.Get(\"HLT_MC/Dijet2/p2m0pf\")\n",
    "\n",
    "\n",
    "c=ROOT.TCanvas(\"c\",\"c\",1000,800)\n",
    "p2m0.Draw(\"colz\")\n",
    "ROOT.gStyle.SetOptStat(0000)\n",
    "c.Draw()\n",
    "c.Delete()\n",
    "\n",
    "for i in range(0,40):\n",
    "    sum=0\n",
    "    for j in range(0,40):\n",
    "        sum+=p2m0.GetBinContent(i,j)\n",
    "        if p2m0.GetBinContent(i,j) !=0 and abs(p2m0.GetBinContent(i,j))>1000:\n",
    "            print(\"\\n\",i,j,p2m0.GetBinContent(i,j))\n",
    "            print(p2m0.GetXaxis().GetBinLowEdge(i),p2m0.GetYaxis().GetBinLowEdge(j))\n",
    "        if np.isnan(p2m0.GetBinContent(i,j)):\n",
    "            print(\"\\n\",i,j,p2m0.GetBinContent(i,j))\n",
    "            print(p2m0.GetXaxis().GetBinLowEdge(i),p2m0.GetYaxis().GetBinLowEdge(j))\n",
    "    # print(i,sum)"
   ]
  },
  {
   "cell_type": "code",
   "execution_count": null,
   "metadata": {},
   "outputs": [],
   "source": [
    "p2m0=file.Get(\"Dijet2/p2jsf\")\n",
    "c=ROOT.TCanvas(\"c\",\"c\",1000,800)\n",
    "p2m0.Draw(\"colz\")\n",
    "c.Draw()\n",
    "c.Delete()\n",
    "\n",
    "\n",
    "for i in range(0,40):\n",
    "    for j in range(0,40):\n",
    "            # if p2m0.GetBinContent(i,j) !=0:\n",
    "            #     print(i,j,p2m0.GetBinContent(i,j))\n",
    "            if np.isnan(p2m0.GetBinContent(i,j)):\n",
    "                print(i,j,p2m0.GetBinContent(i,j))"
   ]
  },
  {
   "cell_type": "code",
   "execution_count": null,
   "metadata": {},
   "outputs": [],
   "source": [
    "root_name=\"/work/mmalucch/L2L3Res_inputs/mc_truth_below15_2022_pnetreg/dijet/jmenano_mc_out_Summer22MG_1_mc_truth_below15_2022_pnetreg.root\"\n",
    "root_name=\"/work/mmalucch/L2L3Res_inputs/mc_truth_below15_pnetreg/dijet/jmenano_mc_out_Summer23MG_1_mc_truth_below15_pnetreg.root\"\n",
    "# root_name=\"/work/mmalucch/L2L3Res_inputs/standardJetPt/dijet/jmenano_mc_out_Summer22EEMG_1_standardJetPt.root\"\n",
    "file_list=[root_name.replace(\"1_mc\",str(i)+\"_mc\") for i in range(1,11)]\n",
    "\n",
    "for file_name in file_list:\n",
    "    file=ROOT.TFile.Open(file_name)\n",
    "    p2m0=file.Get(\"HLT_MC/Dijet2/p2m0\")\n",
    "    for j in range(0,40):\n",
    "        p1m0=p2m0.ProfileY(\"p1m0\", j,j+1)\n",
    "        for i in range(0,30):\n",
    "            # if np.isnan(p1m0.GetBinContent(i)):\n",
    "            #     print(file,j, i,p1m0.GetBinContent(i))\n",
    "            if (abs(p1m0.GetBinContent(i))>1000 or abs(p1m0.GetBinContent(i))<0.001) and p1m0.GetBinContent(i) !=0:\n",
    "                print(file,j, i,p1m0.GetBinContent(i))\n",
    "    file.Close()\n"
   ]
  },
  {
   "cell_type": "code",
   "execution_count": null,
   "metadata": {},
   "outputs": [],
   "source": [
    "root_name=\"/work/mmalucch/L2L3Res_inputs/mc_truth_below15_2022_pnetreg/dijet/jmenano_mc_out_Summer22MG_1_mc_truth_below15_2022_pnetreg.root\"\n",
    "root_name=\"/work/mmalucch/L2L3Res_inputs/mc_truth_below15_pnetreg/dijet/jmenano_mc_out_QCD_mc_truth_below15_pnetreg.root\"\n",
    "\n",
    "file=ROOT.TFile.Open(root_name)\n",
    "p2m0=file.Get(\"HLT_MC/Dijet2/p2m0\")\n",
    "for j in range(0,40):\n",
    "    p1m0=p2m0.ProfileY(\"p1m0\", j,j+1)\n",
    "    for i in range(0,30):\n",
    "        # if np.isnan(p1m0.GetBinContent(i)):\n",
    "        #     print(file,j, i,p1m0.GetBinContent(i))\n",
    "        if (abs(p1m0.GetBinContent(i))>1000 or abs(p1m0.GetBinContent(i))<0.001) and p1m0.GetBinContent(i) !=0:\n",
    "            print(file,j, i,p1m0.GetBinContent(i))\n",
    "file.Close()\n"
   ]
  },
  {
   "cell_type": "code",
   "execution_count": null,
   "metadata": {},
   "outputs": [],
   "source": [
    "root_name=\"/work/mmalucch/L2L3Res_inputs/mc_truth_below15_2022_pnetreg/dijet/jmenano_mc_out_2022EEQCD_mc_truth_below15_2022_pnetreg.root\"\n",
    "# root_name=\"/work/mmalucch/L2L3Res_inputs/mc_truth_below15_2022_pnetreg/dijet/jmenano_mc_cmb_2022EEQCD_mc_truth_below15_2022_pnetreg.root\"\n",
    "file=ROOT.TFile.Open(root_name)\n",
    "p2m0=file.Get(\"HLT_MC/Dijet2/p2m0pf\")\n",
    "\n",
    "\n",
    "c=ROOT.TCanvas(\"c\",\"c\",1000,800)\n",
    "p2m0.Draw(\"colz\")\n",
    "ROOT.gStyle.SetOptStat(0000)\n",
    "c.Draw()\n",
    "c.Delete()\n",
    "\n",
    "for i in range(0,40):\n",
    "    sum=0\n",
    "    for j in range(0,40):\n",
    "        sum+=p2m0.GetBinContent(i,j)\n",
    "        if p2m0.GetBinContent(i,j) !=0 and abs(p2m0.GetBinContent(i,j))>1000:\n",
    "            print(\"\\n\",i,j,p2m0.GetBinContent(i,j))\n",
    "            print(p2m0.GetXaxis().GetBinLowEdge(i),p2m0.GetYaxis().GetBinLowEdge(j))\n",
    "        if np.isnan(p2m0.GetBinContent(i,j)):\n",
    "            print(\"\\n\",i,j,p2m0.GetBinContent(i,j))\n",
    "            print(p2m0.GetXaxis().GetBinLowEdge(i),p2m0.GetYaxis().GetBinLowEdge(j))\n",
    "    # print(i,sum)"
   ]
  },
  {
   "cell_type": "code",
   "execution_count": 38,
   "metadata": {},
   "outputs": [
    {
     "ename": "AttributeError",
     "evalue": "'TObject' object has no attribute 'GetEntries'",
     "output_type": "error",
     "traceback": [
      "\u001b[0;31m---------------------------------------------------------------------------\u001b[0m",
      "\u001b[0;31mAttributeError\u001b[0m                            Traceback (most recent call last)",
      "Cell \u001b[0;32mIn[38], line 7\u001b[0m\n\u001b[1;32m      5\u001b[0m tree\u001b[38;5;241m=\u001b[39mfile\u001b[38;5;241m.\u001b[39mGet(\u001b[38;5;124m\"\u001b[39m\u001b[38;5;124mEvents\u001b[39m\u001b[38;5;124m\"\u001b[39m)\n\u001b[1;32m      6\u001b[0m \u001b[38;5;66;03m#loop over the tree\u001b[39;00m\n\u001b[0;32m----> 7\u001b[0m \u001b[38;5;28;01mfor\u001b[39;00m i \u001b[38;5;129;01min\u001b[39;00m \u001b[38;5;28mrange\u001b[39m(\u001b[38;5;241m0\u001b[39m,\u001b[43mtree\u001b[49m\u001b[38;5;241;43m.\u001b[39;49m\u001b[43mGetEntries\u001b[49m()):\n\u001b[1;32m      8\u001b[0m     tree\u001b[38;5;241m.\u001b[39mGetEntry(i)\n\u001b[1;32m      9\u001b[0m     \u001b[38;5;66;03m#print the values of the branches\u001b[39;00m\n",
      "\u001b[0;31mAttributeError\u001b[0m: 'TObject' object has no attribute 'GetEntries'"
     ]
    }
   ],
   "source": []
  },
  {
   "cell_type": "code",
   "execution_count": null,
   "metadata": {},
   "outputs": [],
   "source": []
  }
 ],
 "metadata": {
  "kernelspec": {
   "display_name": "Python 3",
   "language": "python",
   "name": "python3"
  },
  "language_info": {
   "codemirror_mode": {
    "name": "ipython",
    "version": 3
   },
   "file_extension": ".py",
   "mimetype": "text/x-python",
   "name": "python",
   "nbconvert_exporter": "python",
   "pygments_lexer": "ipython3",
   "version": "3.9.19"
  }
 },
 "nbformat": 4,
 "nbformat_minor": 2
}
